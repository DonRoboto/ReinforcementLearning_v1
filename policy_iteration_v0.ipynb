{
  "nbformat": 4,
  "nbformat_minor": 0,
  "metadata": {
    "colab": {
      "provenance": [],
      "authorship_tag": "ABX9TyMLbv0HORQ8ZqKuVA+xGh3g",
      "include_colab_link": true
    },
    "kernelspec": {
      "name": "python3",
      "display_name": "Python 3"
    },
    "language_info": {
      "name": "python"
    }
  },
  "cells": [
    {
      "cell_type": "markdown",
      "metadata": {
        "id": "view-in-github",
        "colab_type": "text"
      },
      "source": [
        "<a href=\"https://colab.research.google.com/github/DonRoboto/ReinforcementLearning_v1/blob/main/policy_iteration_v0.ipynb\" target=\"_parent\"><img src=\"https://colab.research.google.com/assets/colab-badge.svg\" alt=\"Open In Colab\"/></a>"
      ]
    },
    {
      "cell_type": "code",
      "execution_count": 1,
      "metadata": {
        "id": "CGC5oezyY4LH"
      },
      "outputs": [],
      "source": [
        "#!pip install gymnasium"
      ]
    },
    {
      "cell_type": "code",
      "source": [
        "import gymnasium as gym\n",
        "import numpy as np\n",
        "import matplotlib.pyplot as plt"
      ],
      "metadata": {
        "id": "Gpox4uKhZBWh"
      },
      "execution_count": 2,
      "outputs": []
    },
    {
      "cell_type": "code",
      "source": [
        "env = gym.make('FrozenLake-v1', desc=None, map_name=\"4x4\", is_slippery=False, render_mode=\"rgb_array\")\n"
      ],
      "metadata": {
        "id": "a6ceBFAtZD95"
      },
      "execution_count": 3,
      "outputs": []
    },
    {
      "cell_type": "code",
      "source": [
        "action_space = env.action_space\n",
        "observation_space = env.observation_space\n",
        "\n",
        "print(action_space)\n",
        "print(observation_space)"
      ],
      "metadata": {
        "colab": {
          "base_uri": "https://localhost:8080/"
        },
        "id": "a-2y0hoMZGGO",
        "outputId": "51ef9df5-8302-44be-ee5e-1b07a0700007"
      },
      "execution_count": 4,
      "outputs": [
        {
          "output_type": "stream",
          "name": "stdout",
          "text": [
            "Discrete(4)\n",
            "Discrete(16)\n"
          ]
        }
      ]
    },
    {
      "cell_type": "code",
      "source": [
        "env.reset()"
      ],
      "metadata": {
        "colab": {
          "base_uri": "https://localhost:8080/"
        },
        "id": "I4x89bb1ZWUd",
        "outputId": "89ffc4d2-0884-45fc-999a-cc141e4f1e17"
      },
      "execution_count": 5,
      "outputs": [
        {
          "output_type": "execute_result",
          "data": {
            "text/plain": [
              "(0, {'prob': 1})"
            ]
          },
          "metadata": {},
          "execution_count": 5
        }
      ]
    },
    {
      "cell_type": "code",
      "source": [
        "actions = {\n",
        "    0: 'Left',\n",
        "    1: 'Down',\n",
        "    2: 'Right',\n",
        "    3: 'Up'\n",
        "}"
      ],
      "metadata": {
        "id": "2_LQ_uLiZWXZ"
      },
      "execution_count": 6,
      "outputs": []
    },
    {
      "cell_type": "code",
      "source": [],
      "metadata": {
        "id": "BQCpgd0vZWaO"
      },
      "execution_count": 6,
      "outputs": []
    },
    {
      "cell_type": "code",
      "source": [
        "policy_probs = np.full((16, 4), 0.25)\n",
        "policy_probs"
      ],
      "metadata": {
        "colab": {
          "base_uri": "https://localhost:8080/"
        },
        "id": "NROXa0xWZWc9",
        "outputId": "22e4b78b-93a6-4a79-abcd-ea828e9bdfb0"
      },
      "execution_count": 7,
      "outputs": [
        {
          "output_type": "execute_result",
          "data": {
            "text/plain": [
              "array([[0.25, 0.25, 0.25, 0.25],\n",
              "       [0.25, 0.25, 0.25, 0.25],\n",
              "       [0.25, 0.25, 0.25, 0.25],\n",
              "       [0.25, 0.25, 0.25, 0.25],\n",
              "       [0.25, 0.25, 0.25, 0.25],\n",
              "       [0.25, 0.25, 0.25, 0.25],\n",
              "       [0.25, 0.25, 0.25, 0.25],\n",
              "       [0.25, 0.25, 0.25, 0.25],\n",
              "       [0.25, 0.25, 0.25, 0.25],\n",
              "       [0.25, 0.25, 0.25, 0.25],\n",
              "       [0.25, 0.25, 0.25, 0.25],\n",
              "       [0.25, 0.25, 0.25, 0.25],\n",
              "       [0.25, 0.25, 0.25, 0.25],\n",
              "       [0.25, 0.25, 0.25, 0.25],\n",
              "       [0.25, 0.25, 0.25, 0.25],\n",
              "       [0.25, 0.25, 0.25, 0.25]])"
            ]
          },
          "metadata": {},
          "execution_count": 7
        }
      ]
    },
    {
      "cell_type": "code",
      "source": [
        "def policy(state):\n",
        "    return policy_probs[state]"
      ],
      "metadata": {
        "id": "Q1nCQX4qZQuN"
      },
      "execution_count": 8,
      "outputs": []
    },
    {
      "cell_type": "code",
      "source": [
        "action_probabilities = policy((0))\n",
        "for action, prob in zip(range(4), action_probabilities):\n",
        "    print(f\"Probability of taking action {action}: {prob}\")"
      ],
      "metadata": {
        "colab": {
          "base_uri": "https://localhost:8080/"
        },
        "id": "wvGj9ikfZMRp",
        "outputId": "faa958b8-f131-4916-e9b5-35c73bc04964"
      },
      "execution_count": 9,
      "outputs": [
        {
          "output_type": "stream",
          "name": "stdout",
          "text": [
            "Probability of taking action 0: 0.25\n",
            "Probability of taking action 1: 0.25\n",
            "Probability of taking action 2: 0.25\n",
            "Probability of taking action 3: 0.25\n"
          ]
        }
      ]
    },
    {
      "cell_type": "code",
      "source": [
        "state_values = np.zeros(shape=(16))\n",
        "#state_values[15]=100\n",
        "state_values"
      ],
      "metadata": {
        "colab": {
          "base_uri": "https://localhost:8080/"
        },
        "id": "G7KzLOYGZziw",
        "outputId": "eb3d1ff2-47ae-46a6-ef8a-1ff8abde0be7"
      },
      "execution_count": 10,
      "outputs": [
        {
          "output_type": "execute_result",
          "data": {
            "text/plain": [
              "array([0., 0., 0., 0., 0., 0., 0., 0., 0., 0., 0., 0., 0., 0., 0., 0.])"
            ]
          },
          "metadata": {},
          "execution_count": 10
        }
      ]
    },
    {
      "cell_type": "code",
      "source": [
        "def policy_evaluation(policy_probs, state_values, theta=1e-6, gamma=0.9):\n",
        "    delta = float(\"inf\")\n",
        "\n",
        "    while delta > theta:\n",
        "        delta = 0\n",
        "\n",
        "        for state in range(16):\n",
        "            old_value = state_values[state]\n",
        "            new_value = 0\n",
        "            action_probabilities = policy_probs[state]\n",
        "\n",
        "            for action, prob in enumerate(action_probabilities):\n",
        "              _, next_state, reward, _ = env.unwrapped.P[state][action][0]\n",
        "              new_value += prob * (reward + gamma * state_values[next_state])\n",
        "\n",
        "\n",
        "            state_values[state] = new_value\n",
        "\n",
        "            delta = max(delta, abs(old_value - new_value))\n"
      ],
      "metadata": {
        "id": "rCkS76_2ZihM"
      },
      "execution_count": 11,
      "outputs": []
    },
    {
      "cell_type": "code",
      "source": [
        "def policy_improvement(policy_probs, state_values, gamma=0.99):\n",
        "\n",
        "    policy_stable = True\n",
        "    for state in range(16):\n",
        "        old_action = policy_probs[state].argmax()\n",
        "\n",
        "        new_action = None\n",
        "        max_qsa = float(\"-inf\")\n",
        "\n",
        "        for action in range(4):\n",
        "          _, next_state, reward, _ = env.unwrapped.P[state][action][0]\n",
        "\n",
        "          qsa = reward + gamma * state_values[next_state]\n",
        "          if qsa > max_qsa:\n",
        "            max_qsa = qsa\n",
        "            new_action = action\n",
        "\n",
        "          action_probs = np.zeros(4)\n",
        "          action_probs[new_action] = 1.\n",
        "          policy_probs[state] = action_probs\n",
        "\n",
        "          if new_action != old_action:\n",
        "            policy_stable = False\n",
        "\n",
        "    return policy_stable"
      ],
      "metadata": {
        "id": "_alThzJlZjw5"
      },
      "execution_count": 12,
      "outputs": []
    },
    {
      "cell_type": "code",
      "source": [
        "def policy_iteration(policy_probs, state_values, theta=1e-2, gamma=0.99):\n",
        "    policy_stable = False\n",
        "\n",
        "    #while not policy_stable:\n",
        "    for i in range(100):\n",
        "\n",
        "        policy_evaluation(policy_probs, state_values, theta, gamma)\n",
        "        policy_stable = policy_improvement(policy_probs, state_values, gamma)\n"
      ],
      "metadata": {
        "id": "azszjA7WZoBA"
      },
      "execution_count": 13,
      "outputs": []
    },
    {
      "cell_type": "code",
      "source": [
        "policy_iteration(policy_probs, state_values)"
      ],
      "metadata": {
        "id": "Mid6dGtkZsO2"
      },
      "execution_count": 14,
      "outputs": []
    },
    {
      "cell_type": "code",
      "source": [
        "state_values"
      ],
      "metadata": {
        "colab": {
          "base_uri": "https://localhost:8080/"
        },
        "id": "KQSposGhdSOM",
        "outputId": "fd9c98a3-a186-4457-dc3e-8af15e997a44"
      },
      "execution_count": 15,
      "outputs": [
        {
          "output_type": "execute_result",
          "data": {
            "text/plain": [
              "array([0.95099005, 0.96059601, 0.970299  , 0.96059601, 0.96059601,\n",
              "       0.        , 0.9801    , 0.        , 0.970299  , 0.9801    ,\n",
              "       0.99      , 0.        , 0.        , 0.99      , 1.        ,\n",
              "       0.        ])"
            ]
          },
          "metadata": {},
          "execution_count": 15
        }
      ]
    },
    {
      "cell_type": "code",
      "source": [
        "policy_probs"
      ],
      "metadata": {
        "colab": {
          "base_uri": "https://localhost:8080/"
        },
        "id": "ErNBmaiieOgc",
        "outputId": "c93ff4c4-9482-4569-ef89-86433e5b2686"
      },
      "execution_count": 16,
      "outputs": [
        {
          "output_type": "execute_result",
          "data": {
            "text/plain": [
              "array([[0., 1., 0., 0.],\n",
              "       [0., 0., 1., 0.],\n",
              "       [0., 1., 0., 0.],\n",
              "       [1., 0., 0., 0.],\n",
              "       [0., 1., 0., 0.],\n",
              "       [1., 0., 0., 0.],\n",
              "       [0., 1., 0., 0.],\n",
              "       [1., 0., 0., 0.],\n",
              "       [0., 0., 1., 0.],\n",
              "       [0., 1., 0., 0.],\n",
              "       [0., 1., 0., 0.],\n",
              "       [1., 0., 0., 0.],\n",
              "       [1., 0., 0., 0.],\n",
              "       [0., 0., 1., 0.],\n",
              "       [0., 0., 1., 0.],\n",
              "       [1., 0., 0., 0.]])"
            ]
          },
          "metadata": {},
          "execution_count": 16
        }
      ]
    },
    {
      "cell_type": "code",
      "source": [],
      "metadata": {
        "id": "FSJyRXKNp4C0"
      },
      "execution_count": 16,
      "outputs": []
    },
    {
      "cell_type": "code",
      "source": [
        "state, _ = env.reset()\n",
        "done = False\n",
        "\n",
        "while not done:\n",
        "  action = policy_probs[state].argmax()\n",
        "  state, reward, done, _, _ = env.step(action)\n",
        "  print(actions[action], reward)\n"
      ],
      "metadata": {
        "colab": {
          "base_uri": "https://localhost:8080/"
        },
        "id": "ayXTb-MpqUTa",
        "outputId": "b88e139f-d51d-4a35-8010-ffeb3c8d7f1b"
      },
      "execution_count": 24,
      "outputs": [
        {
          "output_type": "stream",
          "name": "stdout",
          "text": [
            "Down 0.0\n",
            "Down 0.0\n",
            "Right 0.0\n",
            "Down 0.0\n",
            "Right 0.0\n",
            "Right 1.0\n"
          ]
        }
      ]
    }
  ]
}